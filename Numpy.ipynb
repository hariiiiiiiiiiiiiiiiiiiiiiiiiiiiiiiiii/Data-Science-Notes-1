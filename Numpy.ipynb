{
 "cells": [
  {
   "cell_type": "code",
   "execution_count": 1,
   "id": "eee0e56a",
   "metadata": {},
   "outputs": [
    {
     "name": "stdout",
     "output_type": "stream",
     "text": [
      "Defaulting to user installation because normal site-packages is not writeable\n",
      "Requirement already satisfied: numpy in d:\\anaconda\\lib\\site-packages (1.24.3)\n"
     ]
    }
   ],
   "source": [
    "!pip install numpy"
   ]
  },
  {
   "cell_type": "code",
   "execution_count": 6,
   "id": "6f5459dc",
   "metadata": {},
   "outputs": [],
   "source": [
    "import numpy as np"
   ]
  },
  {
   "cell_type": "code",
   "execution_count": 3,
   "id": "bbab2a91",
   "metadata": {},
   "outputs": [
    {
     "name": "stdout",
     "output_type": "stream",
     "text": [
      "[1 2 3]\n"
     ]
    }
   ],
   "source": [
    "n = np.array((1,2,3))\n",
    "print(n)"
   ]
  },
  {
   "cell_type": "markdown",
   "id": "fd781581",
   "metadata": {},
   "source": [
    "# Numpy Arrays"
   ]
  },
  {
   "cell_type": "code",
   "execution_count": 4,
   "id": "df0f3b70",
   "metadata": {},
   "outputs": [],
   "source": [
    "my_list = [1,2,3]"
   ]
  },
  {
   "cell_type": "code",
   "execution_count": 5,
   "id": "d273076c",
   "metadata": {},
   "outputs": [],
   "source": [
    "import numpy as np"
   ]
  },
  {
   "cell_type": "markdown",
   "id": "1028bfb5",
   "metadata": {},
   "source": [
    "Casting list to array in the below step"
   ]
  },
  {
   "cell_type": "code",
   "execution_count": 7,
   "id": "7671dab4",
   "metadata": {},
   "outputs": [],
   "source": [
    "arr = np.array(my_list)"
   ]
  },
  {
   "cell_type": "code",
   "execution_count": 8,
   "id": "4d5aef4c",
   "metadata": {},
   "outputs": [
    {
     "data": {
      "text/plain": [
       "array([1, 2, 3])"
      ]
     },
     "execution_count": 8,
     "metadata": {},
     "output_type": "execute_result"
    }
   ],
   "source": [
    "arr"
   ]
  },
  {
   "cell_type": "markdown",
   "id": "5df47c5a",
   "metadata": {},
   "source": [
    "Getting 2d arrays:"
   ]
  },
  {
   "cell_type": "code",
   "execution_count": 9,
   "id": "951bb6e2",
   "metadata": {},
   "outputs": [],
   "source": [
    "my_mat = ([1,2,3],[4,5,6],[7,8,9])"
   ]
  },
  {
   "cell_type": "code",
   "execution_count": 10,
   "id": "bf956219",
   "metadata": {},
   "outputs": [
    {
     "data": {
      "text/plain": [
       "array([[1, 2, 3],\n",
       "       [4, 5, 6],\n",
       "       [7, 8, 9]])"
      ]
     },
     "execution_count": 10,
     "metadata": {},
     "output_type": "execute_result"
    }
   ],
   "source": [
    "np.array(my_mat)"
   ]
  },
  {
   "cell_type": "code",
   "execution_count": 12,
   "id": "1943e3ed",
   "metadata": {},
   "outputs": [
    {
     "data": {
      "text/plain": [
       "array([0, 1, 2, 3, 4, 5, 6, 7, 8, 9])"
      ]
     },
     "execution_count": 12,
     "metadata": {},
     "output_type": "execute_result"
    }
   ],
   "source": [
    "np.arange(0,10)"
   ]
  },
  {
   "cell_type": "code",
   "execution_count": 13,
   "id": "cebb28c8",
   "metadata": {},
   "outputs": [
    {
     "data": {
      "text/plain": [
       "array([0, 2, 4, 6, 8])"
      ]
     },
     "execution_count": 13,
     "metadata": {},
     "output_type": "execute_result"
    }
   ],
   "source": [
    "np.arange(0,10,2)"
   ]
  },
  {
   "cell_type": "code",
   "execution_count": 14,
   "id": "a7eede39",
   "metadata": {},
   "outputs": [
    {
     "data": {
      "text/plain": [
       "array([0., 0., 0.])"
      ]
     },
     "execution_count": 14,
     "metadata": {},
     "output_type": "execute_result"
    }
   ],
   "source": [
    "np.zeros(3)"
   ]
  },
  {
   "cell_type": "code",
   "execution_count": 16,
   "id": "960a3e0d",
   "metadata": {},
   "outputs": [
    {
     "data": {
      "text/plain": [
       "array([[0., 0., 0.],\n",
       "       [0., 0., 0.],\n",
       "       [0., 0., 0.]])"
      ]
     },
     "execution_count": 16,
     "metadata": {},
     "output_type": "execute_result"
    }
   ],
   "source": [
    "np.zeros((3,3))"
   ]
  },
  {
   "cell_type": "code",
   "execution_count": 17,
   "id": "e64b8a4a",
   "metadata": {},
   "outputs": [],
   "source": [
    "# -----------------------------"
   ]
  },
  {
   "cell_type": "code",
   "execution_count": 19,
   "id": "fe551ae7",
   "metadata": {},
   "outputs": [
    {
     "data": {
      "text/plain": [
       "array([], dtype=int32)"
      ]
     },
     "execution_count": 19,
     "metadata": {},
     "output_type": "execute_result"
    }
   ],
   "source": [
    "np.arange(0)"
   ]
  },
  {
   "cell_type": "code",
   "execution_count": 20,
   "id": "758f2150",
   "metadata": {},
   "outputs": [
    {
     "data": {
      "text/plain": [
       "array([0, 1, 2, 3, 4])"
      ]
     },
     "execution_count": 20,
     "metadata": {},
     "output_type": "execute_result"
    }
   ],
   "source": [
    "np.arange(5)"
   ]
  },
  {
   "cell_type": "code",
   "execution_count": 22,
   "id": "8f5a11b1",
   "metadata": {},
   "outputs": [
    {
     "data": {
      "text/plain": [
       "array([5, 6, 7, 8, 9])"
      ]
     },
     "execution_count": 22,
     "metadata": {},
     "output_type": "execute_result"
    }
   ],
   "source": [
    "np.arange(5,10)"
   ]
  },
  {
   "cell_type": "code",
   "execution_count": 23,
   "id": "eff4c017",
   "metadata": {},
   "outputs": [
    {
     "data": {
      "text/plain": [
       "array([1, 3, 5, 7])"
      ]
     },
     "execution_count": 23,
     "metadata": {},
     "output_type": "execute_result"
    }
   ],
   "source": [
    "np.arange(1,8,2)"
   ]
  },
  {
   "cell_type": "code",
   "execution_count": 24,
   "id": "496c50cd",
   "metadata": {},
   "outputs": [
    {
     "data": {
      "text/plain": [
       "array([-1. , -0.5,  0. ,  0.5,  1. ,  1.5,  2. ,  2.5,  3. ,  3.5,  4. ,\n",
       "        4.5,  5. ,  5.5,  6. ,  6.5,  7. ,  7.5,  8. ,  8.5,  9. ,  9.5])"
      ]
     },
     "execution_count": 24,
     "metadata": {},
     "output_type": "execute_result"
    }
   ],
   "source": [
    "1d_array = np.arange(-1,10,0.5)"
   ]
  },
  {
   "cell_type": "code",
   "execution_count": 26,
   "id": "ebdc0f90",
   "metadata": {},
   "outputs": [],
   "source": [
    "# Arrays from Lists:"
   ]
  },
  {
   "cell_type": "code",
   "execution_count": 27,
   "id": "10b84a2b",
   "metadata": {},
   "outputs": [],
   "source": [
    "from_list = np.array([1,2,3])"
   ]
  },
  {
   "cell_type": "code",
   "execution_count": 28,
   "id": "fa3916ea",
   "metadata": {},
   "outputs": [
    {
     "data": {
      "text/plain": [
       "array([1, 2, 3])"
      ]
     },
     "execution_count": 28,
     "metadata": {},
     "output_type": "execute_result"
    }
   ],
   "source": [
    "from_list"
   ]
  },
  {
   "cell_type": "code",
   "execution_count": 30,
   "id": "6070d3ec",
   "metadata": {},
   "outputs": [],
   "source": [
    "#Consuming less memory"
   ]
  },
  {
   "cell_type": "code",
   "execution_count": 31,
   "id": "f4c64ea6",
   "metadata": {},
   "outputs": [],
   "source": [
    "from_list = np.array([1,2,3],dtype = np.int8)"
   ]
  },
  {
   "cell_type": "code",
   "execution_count": 32,
   "id": "2a978cfd",
   "metadata": {},
   "outputs": [
    {
     "name": "stdout",
     "output_type": "stream",
     "text": [
      "<class 'numpy.int8'>\n"
     ]
    }
   ],
   "source": [
    "print(type(from_list[0]))"
   ]
  },
  {
   "cell_type": "code",
   "execution_count": 33,
   "id": "28fbc542",
   "metadata": {},
   "outputs": [],
   "source": [
    "#2d Arrays"
   ]
  },
  {
   "cell_type": "code",
   "execution_count": 35,
   "id": "27b0fb83",
   "metadata": {},
   "outputs": [],
   "source": [
    "from_list = np.array([[1,2,3],[4,5,6]],dtype = np.int8)"
   ]
  },
  {
   "cell_type": "code",
   "execution_count": 36,
   "id": "8eff9c23",
   "metadata": {},
   "outputs": [
    {
     "data": {
      "text/plain": [
       "array([[1, 2, 3],\n",
       "       [4, 5, 6]], dtype=int8)"
      ]
     },
     "execution_count": 36,
     "metadata": {},
     "output_type": "execute_result"
    }
   ],
   "source": [
    "from_list"
   ]
  },
  {
   "cell_type": "code",
   "execution_count": 37,
   "id": "ef33f954",
   "metadata": {},
   "outputs": [],
   "source": [
    "array_2d = np.array((np.arange(0,8,2),np.arange(1,9,2)),dtype = np.int8)"
   ]
  },
  {
   "cell_type": "code",
   "execution_count": 39,
   "id": "6011e31e",
   "metadata": {},
   "outputs": [
    {
     "data": {
      "text/plain": [
       "array([[0, 2, 4, 6],\n",
       "       [1, 3, 5, 7]], dtype=int8)"
      ]
     },
     "execution_count": 39,
     "metadata": {},
     "output_type": "execute_result"
    }
   ],
   "source": [
    "array_2d"
   ]
  },
  {
   "cell_type": "code",
   "execution_count": 40,
   "id": "e5554460",
   "metadata": {},
   "outputs": [],
   "source": [
    "# We can also verify 2d array by printing its shape.Shape returns the number of cols and rows in 2d array and only columns in\n",
    "#1d array"
   ]
  },
  {
   "cell_type": "code",
   "execution_count": 41,
   "id": "8412a0a3",
   "metadata": {},
   "outputs": [
    {
     "name": "stdout",
     "output_type": "stream",
     "text": [
      "(2, 4)\n"
     ]
    }
   ],
   "source": [
    "print(array_2d.shape)"
   ]
  },
  {
   "cell_type": "code",
   "execution_count": 44,
   "id": "9a2ce6ac",
   "metadata": {},
   "outputs": [],
   "source": [
    "#To change the shape we can use reshape method"
   ]
  },
  {
   "cell_type": "code",
   "execution_count": 45,
   "id": "365bf8c2",
   "metadata": {},
   "outputs": [
    {
     "name": "stdout",
     "output_type": "stream",
     "text": [
      "[[0 2]\n",
      " [4 6]\n",
      " [1 3]\n",
      " [5 7]]\n"
     ]
    }
   ],
   "source": [
    "print(array_2d.reshape(4,2))"
   ]
  },
  {
   "cell_type": "code",
   "execution_count": 47,
   "id": "20502f1f",
   "metadata": {},
   "outputs": [
    {
     "name": "stdout",
     "output_type": "stream",
     "text": [
      "[0 2 4 6 1 3 5 7]\n"
     ]
    }
   ],
   "source": [
    "# In reshape,3d is also possible\n",
    "print(array_2d.reshape(8))"
   ]
  },
  {
   "cell_type": "code",
   "execution_count": 49,
   "id": "3139bc1a",
   "metadata": {},
   "outputs": [],
   "source": [
    "# Empty Arrays\n",
    "# 3 methods are available"
   ]
  },
  {
   "cell_type": "code",
   "execution_count": 50,
   "id": "fdf0770d",
   "metadata": {},
   "outputs": [],
   "source": [
    "empty_array = np.zeros((2,2))"
   ]
  },
  {
   "cell_type": "code",
   "execution_count": 51,
   "id": "2aa45232",
   "metadata": {},
   "outputs": [
    {
     "name": "stdout",
     "output_type": "stream",
     "text": [
      "[[0. 0.]\n",
      " [0. 0.]]\n"
     ]
    }
   ],
   "source": [
    "print(empty_array)"
   ]
  },
  {
   "cell_type": "code",
   "execution_count": 52,
   "id": "f6d53842",
   "metadata": {},
   "outputs": [],
   "source": [
    "empty_array = np.ones((2,2))"
   ]
  },
  {
   "cell_type": "code",
   "execution_count": 53,
   "id": "b290aac1",
   "metadata": {},
   "outputs": [
    {
     "name": "stdout",
     "output_type": "stream",
     "text": [
      "[[1. 1.]\n",
      " [1. 1.]]\n"
     ]
    }
   ],
   "source": [
    "print(empty_array)"
   ]
  },
  {
   "cell_type": "markdown",
   "id": "ad8c47ea",
   "metadata": {},
   "source": [
    "empty() produces random numbers"
   ]
  },
  {
   "cell_type": "code",
   "execution_count": 54,
   "id": "9771f0f9",
   "metadata": {},
   "outputs": [],
   "source": [
    "empty_array = np.empty((2,2))"
   ]
  },
  {
   "cell_type": "code",
   "execution_count": 55,
   "id": "e8767d89",
   "metadata": {},
   "outputs": [
    {
     "data": {
      "text/plain": [
       "array([[1., 1.],\n",
       "       [1., 1.]])"
      ]
     },
     "execution_count": 55,
     "metadata": {},
     "output_type": "execute_result"
    }
   ],
   "source": [
    "empty_array"
   ]
  },
  {
   "cell_type": "code",
   "execution_count": 56,
   "id": "a0885dca",
   "metadata": {},
   "outputs": [],
   "source": [
    "empty_array = np.empty((2,2,2))"
   ]
  },
  {
   "cell_type": "code",
   "execution_count": 57,
   "id": "d40eb537",
   "metadata": {},
   "outputs": [
    {
     "data": {
      "text/plain": [
       "array([[[0.00000000e+000, 0.00000000e+000],\n",
       "        [0.00000000e+000, 0.00000000e+000]],\n",
       "\n",
       "       [[0.00000000e+000, 6.66000491e-321],\n",
       "        [1.78019082e-306, 8.90111707e-307]]])"
      ]
     },
     "execution_count": 57,
     "metadata": {},
     "output_type": "execute_result"
    }
   ],
   "source": [
    "empty_array"
   ]
  },
  {
   "cell_type": "code",
   "execution_count": 59,
   "id": "53d9231c",
   "metadata": {},
   "outputs": [],
   "source": [
    "# eye()"
   ]
  },
  {
   "cell_type": "code",
   "execution_count": 60,
   "id": "9dbe3566",
   "metadata": {},
   "outputs": [],
   "source": [
    "eye_array = np.eye(3)"
   ]
  },
  {
   "cell_type": "code",
   "execution_count": 61,
   "id": "f1c98991",
   "metadata": {},
   "outputs": [
    {
     "data": {
      "text/plain": [
       "array([[1., 0., 0.],\n",
       "       [0., 1., 0.],\n",
       "       [0., 0., 1.]])"
      ]
     },
     "execution_count": 61,
     "metadata": {},
     "output_type": "execute_result"
    }
   ],
   "source": [
    "eye_array"
   ]
  },
  {
   "cell_type": "code",
   "execution_count": 68,
   "id": "ede28b08",
   "metadata": {},
   "outputs": [],
   "source": [
    "eye_array = np.eye(3,k = -1)"
   ]
  },
  {
   "cell_type": "code",
   "execution_count": 69,
   "id": "c6b92891",
   "metadata": {},
   "outputs": [
    {
     "data": {
      "text/plain": [
       "array([[0., 0., 0.],\n",
       "       [1., 0., 0.],\n",
       "       [0., 1., 0.]])"
      ]
     },
     "execution_count": 69,
     "metadata": {},
     "output_type": "execute_result"
    }
   ],
   "source": [
    "eye_array"
   ]
  },
  {
   "cell_type": "code",
   "execution_count": 64,
   "id": "ead0838b",
   "metadata": {},
   "outputs": [],
   "source": [
    "eye_array = np.eye(3,k = 1)"
   ]
  },
  {
   "cell_type": "code",
   "execution_count": 65,
   "id": "6d09bbbe",
   "metadata": {},
   "outputs": [
    {
     "data": {
      "text/plain": [
       "array([[0., 1., 0.],\n",
       "       [0., 0., 1.],\n",
       "       [0., 0., 0.]])"
      ]
     },
     "execution_count": 65,
     "metadata": {},
     "output_type": "execute_result"
    }
   ],
   "source": [
    "eye_array"
   ]
  },
  {
   "cell_type": "code",
   "execution_count": 70,
   "id": "aca9fbf8",
   "metadata": {},
   "outputs": [],
   "source": [
    "# Manipulating values of array"
   ]
  },
  {
   "cell_type": "code",
   "execution_count": 74,
   "id": "c6826aca",
   "metadata": {},
   "outputs": [],
   "source": [
    "# Here replacing values of eye_array with 2 where it was previously zero\n",
    "# The expression within bracket is the filter.\n",
    "# The expression within bracket reads where eye_array value equal to zero"
   ]
  },
  {
   "cell_type": "code",
   "execution_count": 71,
   "id": "9ead0c7d",
   "metadata": {},
   "outputs": [],
   "source": [
    "eye_array[eye_array == 0] = 2"
   ]
  },
  {
   "cell_type": "code",
   "execution_count": 72,
   "id": "862b82bd",
   "metadata": {},
   "outputs": [
    {
     "data": {
      "text/plain": [
       "array([[2., 2., 2.],\n",
       "       [1., 2., 2.],\n",
       "       [2., 1., 2.]])"
      ]
     },
     "execution_count": 72,
     "metadata": {},
     "output_type": "execute_result"
    }
   ],
   "source": [
    "eye_array"
   ]
  },
  {
   "cell_type": "code",
   "execution_count": 80,
   "id": "7c67f5f5",
   "metadata": {},
   "outputs": [],
   "source": [
    "eye_array[eye_array < 2] = 9"
   ]
  },
  {
   "cell_type": "code",
   "execution_count": 81,
   "id": "1aa48d09",
   "metadata": {},
   "outputs": [
    {
     "data": {
      "text/plain": [
       "array([[2., 2., 2.],\n",
       "       [9., 2., 2.],\n",
       "       [2., 9., 2.]])"
      ]
     },
     "execution_count": 81,
     "metadata": {},
     "output_type": "execute_result"
    }
   ],
   "source": [
    "eye_array"
   ]
  },
  {
   "cell_type": "code",
   "execution_count": 82,
   "id": "d01e195e",
   "metadata": {},
   "outputs": [],
   "source": [
    "# Filtering rows"
   ]
  },
  {
   "cell_type": "code",
   "execution_count": 83,
   "id": "9b3ac25e",
   "metadata": {},
   "outputs": [],
   "source": [
    "eye_array[0] = 5"
   ]
  },
  {
   "cell_type": "code",
   "execution_count": 84,
   "id": "a7408094",
   "metadata": {},
   "outputs": [
    {
     "data": {
      "text/plain": [
       "array([[5., 5., 5.],\n",
       "       [9., 2., 2.],\n",
       "       [2., 9., 2.]])"
      ]
     },
     "execution_count": 84,
     "metadata": {},
     "output_type": "execute_result"
    }
   ],
   "source": [
    "eye_array"
   ]
  },
  {
   "cell_type": "code",
   "execution_count": 85,
   "id": "fc26a450",
   "metadata": {},
   "outputs": [],
   "source": [
    "eye_array[:2] = 10"
   ]
  },
  {
   "cell_type": "code",
   "execution_count": 86,
   "id": "16306994",
   "metadata": {},
   "outputs": [
    {
     "data": {
      "text/plain": [
       "array([[10., 10., 10.],\n",
       "       [10., 10., 10.],\n",
       "       [ 2.,  9.,  2.]])"
      ]
     },
     "execution_count": 86,
     "metadata": {},
     "output_type": "execute_result"
    }
   ],
   "source": [
    "eye_array"
   ]
  },
  {
   "cell_type": "code",
   "execution_count": 87,
   "id": "b8d9952c",
   "metadata": {},
   "outputs": [],
   "source": [
    "# Filtering columns"
   ]
  },
  {
   "cell_type": "code",
   "execution_count": 88,
   "id": "b58bbe34",
   "metadata": {},
   "outputs": [],
   "source": [
    "eye_array[0:,0] = 7"
   ]
  },
  {
   "cell_type": "code",
   "execution_count": 89,
   "id": "28453630",
   "metadata": {},
   "outputs": [
    {
     "data": {
      "text/plain": [
       "array([[ 7., 10., 10.],\n",
       "       [ 7., 10., 10.],\n",
       "       [ 7.,  9.,  2.]])"
      ]
     },
     "execution_count": 89,
     "metadata": {},
     "output_type": "execute_result"
    }
   ],
   "source": [
    "eye_array"
   ]
  },
  {
   "cell_type": "code",
   "execution_count": 90,
   "id": "9829e4be",
   "metadata": {},
   "outputs": [],
   "source": [
    "eye_array[0:,-1] = 9"
   ]
  },
  {
   "cell_type": "code",
   "execution_count": 91,
   "id": "4e10005a",
   "metadata": {},
   "outputs": [
    {
     "data": {
      "text/plain": [
       "array([[ 7., 10.,  9.],\n",
       "       [ 7., 10.,  9.],\n",
       "       [ 7.,  9.,  9.]])"
      ]
     },
     "execution_count": 91,
     "metadata": {},
     "output_type": "execute_result"
    }
   ],
   "source": [
    "eye_array"
   ]
  },
  {
   "cell_type": "code",
   "execution_count": 92,
   "id": "44c35f05",
   "metadata": {},
   "outputs": [],
   "source": [
    "eye_array[2] = 12"
   ]
  },
  {
   "cell_type": "code",
   "execution_count": 93,
   "id": "1b5e0347",
   "metadata": {},
   "outputs": [
    {
     "data": {
      "text/plain": [
       "array([[ 7., 10.,  9.],\n",
       "       [ 7., 10.,  9.],\n",
       "       [12., 12., 12.]])"
      ]
     },
     "execution_count": 93,
     "metadata": {},
     "output_type": "execute_result"
    }
   ],
   "source": [
    "eye_array"
   ]
  },
  {
   "cell_type": "code",
   "execution_count": 94,
   "id": "9bc762c6",
   "metadata": {},
   "outputs": [],
   "source": [
    "eye_array[0:2,1:] = 11"
   ]
  },
  {
   "cell_type": "code",
   "execution_count": 95,
   "id": "b3f4cc72",
   "metadata": {},
   "outputs": [
    {
     "data": {
      "text/plain": [
       "array([[ 7., 11., 11.],\n",
       "       [ 7., 11., 11.],\n",
       "       [12., 12., 12.]])"
      ]
     },
     "execution_count": 95,
     "metadata": {},
     "output_type": "execute_result"
    }
   ],
   "source": [
    "eye_array"
   ]
  },
  {
   "cell_type": "code",
   "execution_count": 96,
   "id": "238296d5",
   "metadata": {},
   "outputs": [],
   "source": [
    "# Sort Arrays by rows"
   ]
  },
  {
   "cell_type": "code",
   "execution_count": 114,
   "id": "630eceae",
   "metadata": {},
   "outputs": [],
   "source": [
    "unsorted_array = np.array((np.arange(4,1,-1),np.arange(8,5,-1)))\n",
    "                          # array_2d = np.array((np.arange(0,8,2),np.arange(1,9,2)),dtype = np.int8)"
   ]
  },
  {
   "cell_type": "code",
   "execution_count": 116,
   "id": "5c36393c",
   "metadata": {},
   "outputs": [],
   "source": [
    "sorted_array = np.sort(unsorted_array)"
   ]
  },
  {
   "cell_type": "code",
   "execution_count": 117,
   "id": "e3f5a6ff",
   "metadata": {},
   "outputs": [
    {
     "name": "stdout",
     "output_type": "stream",
     "text": [
      "[[2 3 4]\n",
      " [6 7 8]]\n"
     ]
    }
   ],
   "source": [
    "print(sorted_array)"
   ]
  },
  {
   "cell_type": "code",
   "execution_count": 118,
   "id": "aac9f8c1",
   "metadata": {},
   "outputs": [],
   "source": [
    "# Sorting arrays by columns"
   ]
  },
  {
   "cell_type": "code",
   "execution_count": 7,
   "id": "55492d3f",
   "metadata": {},
   "outputs": [],
   "source": [
    "unsorted_array = np.array((np.arange(4,1,-1),np.arange(8,5,-1)))"
   ]
  },
  {
   "cell_type": "code",
   "execution_count": 8,
   "id": "5a759f35",
   "metadata": {},
   "outputs": [],
   "source": [
    "sorted_array = np.sort(unsorted_array,axis = 0,kind = \"mergesort\")\n",
    "# where 0 indicates columns and -1 which is the default indicates rows"
   ]
  },
  {
   "cell_type": "code",
   "execution_count": 9,
   "id": "eb75e66a",
   "metadata": {},
   "outputs": [
    {
     "data": {
      "text/plain": [
       "array([[4, 3, 2],\n",
       "       [8, 7, 6]])"
      ]
     },
     "execution_count": 9,
     "metadata": {},
     "output_type": "execute_result"
    }
   ],
   "source": [
    "sorted_array"
   ]
  },
  {
   "cell_type": "code",
   "execution_count": 1,
   "id": "77f45728",
   "metadata": {},
   "outputs": [],
   "source": [
    "# Copying arrays\n",
    "# view() modifies original array as well"
   ]
  },
  {
   "cell_type": "code",
   "execution_count": 16,
   "id": "5e5503da",
   "metadata": {},
   "outputs": [],
   "source": [
    " # view() modifies original array as well.Only the original array value gets modified and not its shape\n",
    "my_view = sorted_array.view()"
   ]
  },
  {
   "cell_type": "code",
   "execution_count": 11,
   "id": "18d478a3",
   "metadata": {},
   "outputs": [],
   "source": [
    "my_copy = sorted_array.copy()"
   ]
  },
  {
   "cell_type": "code",
   "execution_count": 12,
   "id": "262eec20",
   "metadata": {},
   "outputs": [],
   "source": [
    "my_view[0:] = 4"
   ]
  },
  {
   "cell_type": "code",
   "execution_count": 13,
   "id": "10451ad3",
   "metadata": {},
   "outputs": [
    {
     "data": {
      "text/plain": [
       "array([[4, 4, 4],\n",
       "       [4, 4, 4]])"
      ]
     },
     "execution_count": 13,
     "metadata": {},
     "output_type": "execute_result"
    }
   ],
   "source": [
    "my_view"
   ]
  },
  {
   "cell_type": "code",
   "execution_count": 14,
   "id": "1d202cce",
   "metadata": {},
   "outputs": [
    {
     "data": {
      "text/plain": [
       "array([[4, 4, 4],\n",
       "       [4, 4, 4]])"
      ]
     },
     "execution_count": 14,
     "metadata": {},
     "output_type": "execute_result"
    }
   ],
   "source": [
    "sorted_array"
   ]
  },
  {
   "cell_type": "code",
   "execution_count": 17,
   "id": "acf05e6e",
   "metadata": {},
   "outputs": [
    {
     "data": {
      "text/plain": [
       "array([[4, 3, 2],\n",
       "       [8, 7, 6]])"
      ]
     },
     "execution_count": 17,
     "metadata": {},
     "output_type": "execute_result"
    }
   ],
   "source": [
    " my_copy"
   ]
  },
  {
   "cell_type": "code",
   "execution_count": 18,
   "id": "f0870f3f",
   "metadata": {},
   "outputs": [
    {
     "data": {
      "text/plain": [
       "array([[4, 4, 4],\n",
       "       [4, 4, 4]])"
      ]
     },
     "execution_count": 18,
     "metadata": {},
     "output_type": "execute_result"
    }
   ],
   "source": [
    "sorted_array"
   ]
  },
  {
   "cell_type": "code",
   "execution_count": 19,
   "id": "e72869d4",
   "metadata": {},
   "outputs": [],
   "source": [
    "# _____________________________________________________________________________________________________________________"
   ]
  },
  {
   "cell_type": "code",
   "execution_count": 29,
   "id": "b277e44b",
   "metadata": {},
   "outputs": [],
   "source": [
    "a = np.zeros((3,3),dtype = np.int64)"
   ]
  },
  {
   "cell_type": "code",
   "execution_count": 30,
   "id": "69cdc80c",
   "metadata": {},
   "outputs": [
    {
     "data": {
      "text/plain": [
       "array([[0, 0, 0],\n",
       "       [0, 0, 0],\n",
       "       [0, 0, 0]], dtype=int64)"
      ]
     },
     "execution_count": 30,
     "metadata": {},
     "output_type": "execute_result"
    }
   ],
   "source": [
    "a"
   ]
  },
  {
   "cell_type": "code",
   "execution_count": 31,
   "id": "b8ffc16d",
   "metadata": {},
   "outputs": [],
   "source": [
    "a[0:] = 2"
   ]
  },
  {
   "cell_type": "code",
   "execution_count": 32,
   "id": "bc349165",
   "metadata": {},
   "outputs": [
    {
     "data": {
      "text/plain": [
       "array([[2, 2, 2],\n",
       "       [2, 2, 2],\n",
       "       [2, 2, 2]], dtype=int64)"
      ]
     },
     "execution_count": 32,
     "metadata": {},
     "output_type": "execute_result"
    }
   ],
   "source": [
    "a"
   ]
  },
  {
   "cell_type": "code",
   "execution_count": 33,
   "id": "d8253835",
   "metadata": {},
   "outputs": [
    {
     "name": "stdout",
     "output_type": "stream",
     "text": [
      "int64\n"
     ]
    }
   ],
   "source": [
    "print(a.dtype)"
   ]
  },
  {
   "cell_type": "code",
   "execution_count": 34,
   "id": "cbf7d4c2",
   "metadata": {},
   "outputs": [],
   "source": [
    "b = np.arange(1,10).reshape((3,3))"
   ]
  },
  {
   "cell_type": "code",
   "execution_count": 35,
   "id": "67a579dc",
   "metadata": {},
   "outputs": [
    {
     "data": {
      "text/plain": [
       "array([[1, 2, 3],\n",
       "       [4, 5, 6],\n",
       "       [7, 8, 9]])"
      ]
     },
     "execution_count": 35,
     "metadata": {},
     "output_type": "execute_result"
    }
   ],
   "source": [
    "b"
   ]
  },
  {
   "cell_type": "code",
   "execution_count": 36,
   "id": "56c48e14",
   "metadata": {},
   "outputs": [
    {
     "name": "stdout",
     "output_type": "stream",
     "text": [
      "int32\n"
     ]
    }
   ],
   "source": [
    "print(b.dtype)"
   ]
  },
  {
   "cell_type": "code",
   "execution_count": 37,
   "id": "44a4ee8b",
   "metadata": {},
   "outputs": [
    {
     "data": {
      "text/plain": [
       "array([[2, 2, 2],\n",
       "       [2, 2, 2],\n",
       "       [2, 2, 2]], dtype=int64)"
      ]
     },
     "execution_count": 37,
     "metadata": {},
     "output_type": "execute_result"
    }
   ],
   "source": [
    "a"
   ]
  },
  {
   "cell_type": "code",
   "execution_count": 41,
   "id": "dc95810c",
   "metadata": {},
   "outputs": [],
   "source": [
    "# fill()\n",
    "# fill() applies the changes in place and hence there is no need of re assigning it to another variable"
   ]
  },
  {
   "cell_type": "code",
   "execution_count": 42,
   "id": "aa406a71",
   "metadata": {},
   "outputs": [],
   "source": [
    "a.fill(8) "
   ]
  },
  {
   "cell_type": "code",
   "execution_count": 43,
   "id": "59bab9bc",
   "metadata": {},
   "outputs": [
    {
     "data": {
      "text/plain": [
       "array([[8, 8, 8],\n",
       "       [8, 8, 8],\n",
       "       [8, 8, 8]], dtype=int64)"
      ]
     },
     "execution_count": 43,
     "metadata": {},
     "output_type": "execute_result"
    }
   ],
   "source": [
    "a"
   ]
  },
  {
   "cell_type": "code",
   "execution_count": null,
   "id": "067516bd",
   "metadata": {},
   "outputs": [],
   "source": [
    "# Alternatively fill() method's use can be obtained using assignment operator"
   ]
  },
  {
   "cell_type": "code",
   "execution_count": 44,
   "id": "7d0645a2",
   "metadata": {},
   "outputs": [],
   "source": [
    "a += 3"
   ]
  },
  {
   "cell_type": "code",
   "execution_count": 45,
   "id": "4f7e08b3",
   "metadata": {},
   "outputs": [
    {
     "data": {
      "text/plain": [
       "array([[11, 11, 11],\n",
       "       [11, 11, 11],\n",
       "       [11, 11, 11]], dtype=int64)"
      ]
     },
     "execution_count": 45,
     "metadata": {},
     "output_type": "execute_result"
    }
   ],
   "source": [
    "a"
   ]
  },
  {
   "cell_type": "code",
   "execution_count": 46,
   "id": "ba8e2b90",
   "metadata": {},
   "outputs": [],
   "source": [
    "a -= 3"
   ]
  },
  {
   "cell_type": "code",
   "execution_count": 47,
   "id": "2e0afaa0",
   "metadata": {},
   "outputs": [
    {
     "data": {
      "text/plain": [
       "array([[8, 8, 8],\n",
       "       [8, 8, 8],\n",
       "       [8, 8, 8]], dtype=int64)"
      ]
     },
     "execution_count": 47,
     "metadata": {},
     "output_type": "execute_result"
    }
   ],
   "source": [
    "a\n"
   ]
  },
  {
   "cell_type": "code",
   "execution_count": 48,
   "id": "08fe8012",
   "metadata": {},
   "outputs": [],
   "source": [
    "a *= 3"
   ]
  },
  {
   "cell_type": "code",
   "execution_count": 49,
   "id": "40a9f1a3",
   "metadata": {},
   "outputs": [
    {
     "data": {
      "text/plain": [
       "array([[24, 24, 24],\n",
       "       [24, 24, 24],\n",
       "       [24, 24, 24]], dtype=int64)"
      ]
     },
     "execution_count": 49,
     "metadata": {},
     "output_type": "execute_result"
    }
   ],
   "source": [
    "a"
   ]
  },
  {
   "cell_type": "code",
   "execution_count": 51,
   "id": "92c6711f",
   "metadata": {},
   "outputs": [
    {
     "ename": "UFuncTypeError",
     "evalue": "Cannot cast ufunc 'divide' output from dtype('float64') to dtype('int64') with casting rule 'same_kind'",
     "output_type": "error",
     "traceback": [
      "\u001b[1;31m---------------------------------------------------------------------------\u001b[0m",
      "\u001b[1;31mUFuncTypeError\u001b[0m                            Traceback (most recent call last)",
      "Cell \u001b[1;32mIn[51], line 1\u001b[0m\n\u001b[1;32m----> 1\u001b[0m a \u001b[38;5;241m/\u001b[39m\u001b[38;5;241m=\u001b[39m \u001b[38;5;241m3\u001b[39m\n",
      "\u001b[1;31mUFuncTypeError\u001b[0m: Cannot cast ufunc 'divide' output from dtype('float64') to dtype('int64') with casting rule 'same_kind'"
     ]
    }
   ],
   "source": [
    "a /= 3\n",
    "# The error below occurs due to us commanding numpy to store only int.If we remove dtype then we can store float in the array\n"
   ]
  },
  {
   "cell_type": "code",
   "execution_count": 52,
   "id": "e94fa127",
   "metadata": {},
   "outputs": [],
   "source": [
    "# ARITHMETIC METHODS"
   ]
  },
  {
   "cell_type": "code",
   "execution_count": 53,
   "id": "fde5f80a",
   "metadata": {},
   "outputs": [],
   "source": [
    "array_sum = a.sum()"
   ]
  },
  {
   "cell_type": "code",
   "execution_count": 54,
   "id": "cbb36b05",
   "metadata": {},
   "outputs": [
    {
     "data": {
      "text/plain": [
       "216"
      ]
     },
     "execution_count": 54,
     "metadata": {},
     "output_type": "execute_result"
    }
   ],
   "source": [
    "array_sum\n"
   ]
  },
  {
   "cell_type": "code",
   "execution_count": 58,
   "id": "eeea2f52",
   "metadata": {},
   "outputs": [],
   "source": [
    "# Getting the sum of each of the column.This is done by specifying axis = 0 inside the sum() "
   ]
  },
  {
   "cell_type": "code",
   "execution_count": 56,
   "id": "fec26fca",
   "metadata": {},
   "outputs": [],
   "source": [
    "array_sum = a.sum(axis = 0)"
   ]
  },
  {
   "cell_type": "code",
   "execution_count": 57,
   "id": "2e1ae277",
   "metadata": {},
   "outputs": [
    {
     "data": {
      "text/plain": [
       "array([72, 72, 72], dtype=int64)"
      ]
     },
     "execution_count": 57,
     "metadata": {},
     "output_type": "execute_result"
    }
   ],
   "source": [
    "array_sum"
   ]
  },
  {
   "cell_type": "code",
   "execution_count": null,
   "id": "38cdb471",
   "metadata": {},
   "outputs": [],
   "source": [
    "# Getting the sum of each of the row.This is done by specifying axis = 1 inside the sum() "
   ]
  },
  {
   "cell_type": "code",
   "execution_count": 60,
   "id": "5b5b39d4",
   "metadata": {},
   "outputs": [],
   "source": [
    "array_sum = a.sum(axis = 1)"
   ]
  },
  {
   "cell_type": "code",
   "execution_count": 61,
   "id": "df899b90",
   "metadata": {},
   "outputs": [
    {
     "data": {
      "text/plain": [
       "array([72, 72, 72], dtype=int64)"
      ]
     },
     "execution_count": 61,
     "metadata": {},
     "output_type": "execute_result"
    }
   ],
   "source": [
    "array_sum"
   ]
  },
  {
   "cell_type": "code",
   "execution_count": 62,
   "id": "a9fbe92c",
   "metadata": {},
   "outputs": [],
   "source": [
    "# prod()"
   ]
  },
  {
   "cell_type": "code",
   "execution_count": 63,
   "id": "4b8e3998",
   "metadata": {},
   "outputs": [],
   "source": [
    "array_prod = a.prod()"
   ]
  },
  {
   "cell_type": "code",
   "execution_count": 64,
   "id": "d48d6eaa",
   "metadata": {},
   "outputs": [
    {
     "data": {
      "text/plain": [
       "2641807540224"
      ]
     },
     "execution_count": 64,
     "metadata": {},
     "output_type": "execute_result"
    }
   ],
   "source": [
    "array_prod"
   ]
  },
  {
   "cell_type": "code",
   "execution_count": 65,
   "id": "05431587",
   "metadata": {},
   "outputs": [],
   "source": [
    "# mean()"
   ]
  },
  {
   "cell_type": "code",
   "execution_count": 66,
   "id": "65230996",
   "metadata": {},
   "outputs": [],
   "source": [
    "array_avg = a.mean()"
   ]
  },
  {
   "cell_type": "code",
   "execution_count": 67,
   "id": "7c84d02e",
   "metadata": {},
   "outputs": [
    {
     "data": {
      "text/plain": [
       "24.0"
      ]
     },
     "execution_count": 67,
     "metadata": {},
     "output_type": "execute_result"
    }
   ],
   "source": [
    "array_avg"
   ]
  },
  {
   "cell_type": "code",
   "execution_count": 68,
   "id": "21378be1",
   "metadata": {},
   "outputs": [],
   "source": [
    "array_max,array_min = a.min(),a.max()"
   ]
  },
  {
   "cell_type": "code",
   "execution_count": 69,
   "id": "83be8c8e",
   "metadata": {},
   "outputs": [
    {
     "data": {
      "text/plain": [
       "24"
      ]
     },
     "execution_count": 69,
     "metadata": {},
     "output_type": "execute_result"
    }
   ],
   "source": [
    "array_max"
   ]
  },
  {
   "cell_type": "code",
   "execution_count": 70,
   "id": "20ae7db1",
   "metadata": {},
   "outputs": [
    {
     "data": {
      "text/plain": [
       "24"
      ]
     },
     "execution_count": 70,
     "metadata": {},
     "output_type": "execute_result"
    }
   ],
   "source": [
    "array_min"
   ]
  },
  {
   "cell_type": "code",
   "execution_count": 72,
   "id": "cc2254a8",
   "metadata": {},
   "outputs": [],
   "source": [
    "# Getting the index of min and max values instead of the actual values\n",
    "# a.argmax(),a.minmax()"
   ]
  },
  {
   "cell_type": "code",
   "execution_count": 73,
   "id": "7c2f8cb3",
   "metadata": {},
   "outputs": [],
   "source": [
    "# ptp(): difference of max and min values"
   ]
  },
  {
   "cell_type": "code",
   "execution_count": 74,
   "id": "3db3f79c",
   "metadata": {},
   "outputs": [],
   "source": [
    "peak_to_peak = a.ptp()"
   ]
  },
  {
   "cell_type": "code",
   "execution_count": 75,
   "id": "3dc7e4d6",
   "metadata": {},
   "outputs": [
    {
     "data": {
      "text/plain": [
       "0"
      ]
     },
     "execution_count": 75,
     "metadata": {},
     "output_type": "execute_result"
    }
   ],
   "source": [
    "peak_to_peak"
   ]
  },
  {
   "cell_type": "code",
   "execution_count": 76,
   "id": "52cbdee1",
   "metadata": {},
   "outputs": [],
   "source": [
    "# Flattening arrays,ie,instead of rows and columns arrange the data in a single line"
   ]
  },
  {
   "cell_type": "code",
   "execution_count": 77,
   "id": "0e888464",
   "metadata": {},
   "outputs": [
    {
     "data": {
      "text/plain": [
       "array([[1, 2, 3],\n",
       "       [4, 5, 6],\n",
       "       [7, 8, 9]])"
      ]
     },
     "execution_count": 77,
     "metadata": {},
     "output_type": "execute_result"
    }
   ],
   "source": [
    "b"
   ]
  },
  {
   "cell_type": "code",
   "execution_count": 78,
   "id": "1a3ea131",
   "metadata": {},
   "outputs": [
    {
     "data": {
      "text/plain": [
       "9"
      ]
     },
     "execution_count": 78,
     "metadata": {},
     "output_type": "execute_result"
    }
   ],
   "source": [
    "b.size"
   ]
  },
  {
   "cell_type": "code",
   "execution_count": 79,
   "id": "08e4aeef",
   "metadata": {},
   "outputs": [],
   "source": [
    "array_flat = b.reshape(b.size)"
   ]
  },
  {
   "cell_type": "code",
   "execution_count": 80,
   "id": "9c3255a1",
   "metadata": {},
   "outputs": [
    {
     "data": {
      "text/plain": [
       "array([1, 2, 3, 4, 5, 6, 7, 8, 9])"
      ]
     },
     "execution_count": 80,
     "metadata": {},
     "output_type": "execute_result"
    }
   ],
   "source": [
    "array_flat"
   ]
  },
  {
   "cell_type": "code",
   "execution_count": 81,
   "id": "8a4d2ba6",
   "metadata": {},
   "outputs": [
    {
     "data": {
      "text/plain": [
       "array([[24, 24, 24],\n",
       "       [24, 24, 24],\n",
       "       [24, 24, 24]], dtype=int64)"
      ]
     },
     "execution_count": 81,
     "metadata": {},
     "output_type": "execute_result"
    }
   ],
   "source": [
    "a"
   ]
  },
  {
   "cell_type": "code",
   "execution_count": 92,
   "id": "d4b3e415",
   "metadata": {},
   "outputs": [],
   "source": [
    "# flatten(): This makes a copy of the original array.Does not modify original array"
   ]
  },
  {
   "cell_type": "code",
   "execution_count": 83,
   "id": "ee62f7c1",
   "metadata": {},
   "outputs": [],
   "source": [
    "array_flat = a.flatten()"
   ]
  },
  {
   "cell_type": "code",
   "execution_count": 84,
   "id": "c752974c",
   "metadata": {},
   "outputs": [
    {
     "data": {
      "text/plain": [
       "array([24, 24, 24, 24, 24, 24, 24, 24, 24], dtype=int64)"
      ]
     },
     "execution_count": 84,
     "metadata": {},
     "output_type": "execute_result"
    }
   ],
   "source": [
    "array_flat"
   ]
  },
  {
   "cell_type": "code",
   "execution_count": 86,
   "id": "791023df",
   "metadata": {},
   "outputs": [],
   "source": [
    "# ravel(): Creates a view of the original array.Modifies original array"
   ]
  },
  {
   "cell_type": "code",
   "execution_count": 87,
   "id": "39254b2b",
   "metadata": {},
   "outputs": [
    {
     "data": {
      "text/plain": [
       "array([[1, 2, 3],\n",
       "       [4, 5, 6],\n",
       "       [7, 8, 9]])"
      ]
     },
     "execution_count": 87,
     "metadata": {},
     "output_type": "execute_result"
    }
   ],
   "source": [
    "b"
   ]
  },
  {
   "cell_type": "code",
   "execution_count": 88,
   "id": "fd27a346",
   "metadata": {},
   "outputs": [],
   "source": [
    "array_flat = b.ravel()"
   ]
  },
  {
   "cell_type": "code",
   "execution_count": 89,
   "id": "2f50d2fa",
   "metadata": {},
   "outputs": [
    {
     "data": {
      "text/plain": [
       "array([1, 2, 3, 4, 5, 6, 7, 8, 9])"
      ]
     },
     "execution_count": 89,
     "metadata": {},
     "output_type": "execute_result"
    }
   ],
   "source": [
    "array_flat"
   ]
  },
  {
   "cell_type": "code",
   "execution_count": null,
   "id": "2176f99a",
   "metadata": {},
   "outputs": [],
   "source": [
    "# Modifies original array "
   ]
  },
  {
   "cell_type": "code",
   "execution_count": 90,
   "id": "8164047c",
   "metadata": {},
   "outputs": [],
   "source": [
    "array_flat += 5"
   ]
  },
  {
   "cell_type": "code",
   "execution_count": 91,
   "id": "c644638c",
   "metadata": {},
   "outputs": [
    {
     "data": {
      "text/plain": [
       "array([ 6,  7,  8,  9, 10, 11, 12, 13, 14])"
      ]
     },
     "execution_count": 91,
     "metadata": {},
     "output_type": "execute_result"
    }
   ],
   "source": [
    "array_flat"
   ]
  },
  {
   "cell_type": "code",
   "execution_count": null,
   "id": "f287b4b8",
   "metadata": {},
   "outputs": [],
   "source": [
    "# repeat values/arrays"
   ]
  }
 ],
 "metadata": {
  "kernelspec": {
   "display_name": "Python 3 (ipykernel)",
   "language": "python",
   "name": "python3"
  },
  "language_info": {
   "codemirror_mode": {
    "name": "ipython",
    "version": 3
   },
   "file_extension": ".py",
   "mimetype": "text/x-python",
   "name": "python",
   "nbconvert_exporter": "python",
   "pygments_lexer": "ipython3",
   "version": "3.11.3"
  }
 },
 "nbformat": 4,
 "nbformat_minor": 5
}
