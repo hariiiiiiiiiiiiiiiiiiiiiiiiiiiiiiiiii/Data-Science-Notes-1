{
 "cells": [
  {
   "cell_type": "code",
   "execution_count": 2,
   "id": "c3c8ebc5",
   "metadata": {},
   "outputs": [
    {
     "name": "stdout",
     "output_type": "stream",
     "text": [
      "Defaulting to user installation because normal site-packages is not writeableNote: you may need to restart the kernel to use updated packages.\n",
      "\n",
      "Requirement already satisfied: pandas in d:\\anaconda\\lib\\site-packages (1.5.3)\n",
      "Requirement already satisfied: python-dateutil>=2.8.1 in d:\\anaconda\\lib\\site-packages (from pandas) (2.8.2)\n",
      "Requirement already satisfied: pytz>=2020.1 in d:\\anaconda\\lib\\site-packages (from pandas) (2022.7)\n",
      "Requirement already satisfied: numpy>=1.21.0 in d:\\anaconda\\lib\\site-packages (from pandas) (1.24.3)\n",
      "Requirement already satisfied: six>=1.5 in d:\\anaconda\\lib\\site-packages (from python-dateutil>=2.8.1->pandas) (1.16.0)\n"
     ]
    }
   ],
   "source": [
    "pip install pandas"
   ]
  },
  {
   "cell_type": "code",
   "execution_count": 3,
   "id": "8da808c7",
   "metadata": {},
   "outputs": [],
   "source": [
    "import pandas as pd"
   ]
  },
  {
   "cell_type": "code",
   "execution_count": 4,
   "id": "e322554a",
   "metadata": {},
   "outputs": [],
   "source": [
    "column = ['Hari','Messi','Dhoni']"
   ]
  },
  {
   "cell_type": "code",
   "execution_count": 5,
   "id": "47f9f686",
   "metadata": {},
   "outputs": [
    {
     "data": {
      "text/plain": [
       "['Hari', 'Messi', 'Dhoni']"
      ]
     },
     "execution_count": 5,
     "metadata": {},
     "output_type": "execute_result"
    }
   ],
   "source": [
    "column"
   ]
  },
  {
   "cell_type": "code",
   "execution_count": 6,
   "id": "5aeb1980",
   "metadata": {},
   "outputs": [],
   "source": [
    "data = pd.DataFrame(column)"
   ]
  },
  {
   "cell_type": "code",
   "execution_count": 7,
   "id": "96009456",
   "metadata": {},
   "outputs": [
    {
     "data": {
      "text/html": [
       "<div>\n",
       "<style scoped>\n",
       "    .dataframe tbody tr th:only-of-type {\n",
       "        vertical-align: middle;\n",
       "    }\n",
       "\n",
       "    .dataframe tbody tr th {\n",
       "        vertical-align: top;\n",
       "    }\n",
       "\n",
       "    .dataframe thead th {\n",
       "        text-align: right;\n",
       "    }\n",
       "</style>\n",
       "<table border=\"1\" class=\"dataframe\">\n",
       "  <thead>\n",
       "    <tr style=\"text-align: right;\">\n",
       "      <th></th>\n",
       "      <th>0</th>\n",
       "    </tr>\n",
       "  </thead>\n",
       "  <tbody>\n",
       "    <tr>\n",
       "      <th>0</th>\n",
       "      <td>Hari</td>\n",
       "    </tr>\n",
       "    <tr>\n",
       "      <th>1</th>\n",
       "      <td>Messi</td>\n",
       "    </tr>\n",
       "    <tr>\n",
       "      <th>2</th>\n",
       "      <td>Dhoni</td>\n",
       "    </tr>\n",
       "  </tbody>\n",
       "</table>\n",
       "</div>"
      ],
      "text/plain": [
       "       0\n",
       "0   Hari\n",
       "1  Messi\n",
       "2  Dhoni"
      ]
     },
     "execution_count": 7,
     "metadata": {},
     "output_type": "execute_result"
    }
   ],
   "source": [
    "data"
   ]
  },
  {
   "cell_type": "code",
   "execution_count": 8,
   "id": "4078d608",
   "metadata": {},
   "outputs": [],
   "source": [
    "titled_column = {\"name\": column}"
   ]
  },
  {
   "cell_type": "code",
   "execution_count": 9,
   "id": "27f8fe2d",
   "metadata": {},
   "outputs": [],
   "source": [
    "data = pd.DataFrame(titled_column)"
   ]
  },
  {
   "cell_type": "code",
   "execution_count": 10,
   "id": "f92bbed1",
   "metadata": {},
   "outputs": [
    {
     "data": {
      "text/html": [
       "<div>\n",
       "<style scoped>\n",
       "    .dataframe tbody tr th:only-of-type {\n",
       "        vertical-align: middle;\n",
       "    }\n",
       "\n",
       "    .dataframe tbody tr th {\n",
       "        vertical-align: top;\n",
       "    }\n",
       "\n",
       "    .dataframe thead th {\n",
       "        text-align: right;\n",
       "    }\n",
       "</style>\n",
       "<table border=\"1\" class=\"dataframe\">\n",
       "  <thead>\n",
       "    <tr style=\"text-align: right;\">\n",
       "      <th></th>\n",
       "      <th>name</th>\n",
       "    </tr>\n",
       "  </thead>\n",
       "  <tbody>\n",
       "    <tr>\n",
       "      <th>0</th>\n",
       "      <td>Hari</td>\n",
       "    </tr>\n",
       "    <tr>\n",
       "      <th>1</th>\n",
       "      <td>Messi</td>\n",
       "    </tr>\n",
       "    <tr>\n",
       "      <th>2</th>\n",
       "      <td>Dhoni</td>\n",
       "    </tr>\n",
       "  </tbody>\n",
       "</table>\n",
       "</div>"
      ],
      "text/plain": [
       "    name\n",
       "0   Hari\n",
       "1  Messi\n",
       "2  Dhoni"
      ]
     },
     "execution_count": 10,
     "metadata": {},
     "output_type": "execute_result"
    }
   ],
   "source": [
    "data\n",
    "# Pandas indeed uses the dictionary keys as column names when you create a DataFrame from a dictionary. "
   ]
  },
  {
   "cell_type": "code",
   "execution_count": 12,
   "id": "94737f84",
   "metadata": {},
   "outputs": [],
   "source": [
    "titled_columns = {\"name\": column,\n",
    "                 \"height\":[1.76,1.70,1.8],\n",
    "                  \"weight\":[72,70,75]}"
   ]
  },
  {
   "cell_type": "code",
   "execution_count": 13,
   "id": "311f28b1",
   "metadata": {},
   "outputs": [],
   "source": [
    "data = pd.DataFrame(titled_columns)"
   ]
  },
  {
   "cell_type": "code",
   "execution_count": 14,
   "id": "c981162d",
   "metadata": {},
   "outputs": [
    {
     "data": {
      "text/html": [
       "<div>\n",
       "<style scoped>\n",
       "    .dataframe tbody tr th:only-of-type {\n",
       "        vertical-align: middle;\n",
       "    }\n",
       "\n",
       "    .dataframe tbody tr th {\n",
       "        vertical-align: top;\n",
       "    }\n",
       "\n",
       "    .dataframe thead th {\n",
       "        text-align: right;\n",
       "    }\n",
       "</style>\n",
       "<table border=\"1\" class=\"dataframe\">\n",
       "  <thead>\n",
       "    <tr style=\"text-align: right;\">\n",
       "      <th></th>\n",
       "      <th>name</th>\n",
       "      <th>height</th>\n",
       "      <th>weight</th>\n",
       "    </tr>\n",
       "  </thead>\n",
       "  <tbody>\n",
       "    <tr>\n",
       "      <th>0</th>\n",
       "      <td>Hari</td>\n",
       "      <td>1.76</td>\n",
       "      <td>72</td>\n",
       "    </tr>\n",
       "    <tr>\n",
       "      <th>1</th>\n",
       "      <td>Messi</td>\n",
       "      <td>1.70</td>\n",
       "      <td>70</td>\n",
       "    </tr>\n",
       "    <tr>\n",
       "      <th>2</th>\n",
       "      <td>Dhoni</td>\n",
       "      <td>1.80</td>\n",
       "      <td>75</td>\n",
       "    </tr>\n",
       "  </tbody>\n",
       "</table>\n",
       "</div>"
      ],
      "text/plain": [
       "    name  height  weight\n",
       "0   Hari    1.76      72\n",
       "1  Messi    1.70      70\n",
       "2  Dhoni    1.80      75"
      ]
     },
     "execution_count": 14,
     "metadata": {},
     "output_type": "execute_result"
    }
   ],
   "source": [
    "data"
   ]
  },
  {
   "cell_type": "code",
   "execution_count": 15,
   "id": "f3efed70",
   "metadata": {},
   "outputs": [],
   "source": [
    "# SELECTING COLUMNS/VALUES FROM DATA FRAME"
   ]
  },
  {
   "cell_type": "code",
   "execution_count": 16,
   "id": "0f2b2606",
   "metadata": {},
   "outputs": [],
   "source": [
    "selected_column = data['weight']"
   ]
  },
  {
   "cell_type": "code",
   "execution_count": 17,
   "id": "51aba8e5",
   "metadata": {},
   "outputs": [
    {
     "data": {
      "text/plain": [
       "0    72\n",
       "1    70\n",
       "2    75\n",
       "Name: weight, dtype: int64"
      ]
     },
     "execution_count": 17,
     "metadata": {},
     "output_type": "execute_result"
    }
   ],
   "source": [
    "selected_column"
   ]
  },
  {
   "cell_type": "code",
   "execution_count": 18,
   "id": "7957a3a8",
   "metadata": {},
   "outputs": [],
   "source": [
    "# Selecting messi's weight.This is done by adding index to the key of weight"
   ]
  },
  {
   "cell_type": "code",
   "execution_count": 19,
   "id": "b4e2df7d",
   "metadata": {},
   "outputs": [],
   "source": [
    "messi_weight = data[\"weight\"][1]"
   ]
  },
  {
   "cell_type": "code",
   "execution_count": 20,
   "id": "2d7b524d",
   "metadata": {},
   "outputs": [
    {
     "data": {
      "text/plain": [
       "70"
      ]
     },
     "execution_count": 20,
     "metadata": {},
     "output_type": "execute_result"
    }
   ],
   "source": [
    "messi_weight"
   ]
  },
  {
   "cell_type": "code",
   "execution_count": 21,
   "id": "cbb192bf",
   "metadata": {},
   "outputs": [],
   "source": [
    "# Selecting rows\n",
    "# iloc represents rows"
   ]
  },
  {
   "cell_type": "code",
   "execution_count": 22,
   "id": "e6d4cdcd",
   "metadata": {},
   "outputs": [],
   "source": [
    "selected_row = data.iloc[1]"
   ]
  },
  {
   "cell_type": "code",
   "execution_count": 23,
   "id": "4f28c6f9",
   "metadata": {},
   "outputs": [
    {
     "data": {
      "text/plain": [
       "name      Messi\n",
       "height      1.7\n",
       "weight       70\n",
       "Name: 1, dtype: object"
      ]
     },
     "execution_count": 23,
     "metadata": {},
     "output_type": "execute_result"
    }
   ],
   "source": [
    "selected_row\n",
    "# This selected the entire."
   ]
  },
  {
   "cell_type": "code",
   "execution_count": 24,
   "id": "f01d0c12",
   "metadata": {},
   "outputs": [],
   "source": [
    "# To check for only the weight"
   ]
  },
  {
   "cell_type": "code",
   "execution_count": 25,
   "id": "05d4ae00",
   "metadata": {},
   "outputs": [],
   "source": [
    "selected_row = data.iloc[1][\"weight\"]"
   ]
  },
  {
   "cell_type": "code",
   "execution_count": 26,
   "id": "d0c94a6a",
   "metadata": {},
   "outputs": [
    {
     "data": {
      "text/plain": [
       "70"
      ]
     },
     "execution_count": 26,
     "metadata": {},
     "output_type": "execute_result"
    }
   ],
   "source": [
    "selected_row"
   ]
  },
  {
   "cell_type": "code",
   "execution_count": 27,
   "id": "4d1435ff",
   "metadata": {},
   "outputs": [],
   "source": [
    "# MANIPULATING DATAFRAME VALUES"
   ]
  },
  {
   "cell_type": "code",
   "execution_count": 28,
   "id": "bd3f7d2a",
   "metadata": {},
   "outputs": [],
   "source": [
    "bmi = []"
   ]
  },
  {
   "cell_type": "code",
   "execution_count": 29,
   "id": "7e51f498",
   "metadata": {},
   "outputs": [],
   "source": [
    "#bmi = weight/(height**2)"
   ]
  },
  {
   "cell_type": "code",
   "execution_count": 32,
   "id": "469fcc72",
   "metadata": {},
   "outputs": [],
   "source": [
    "for i in range(len(data)):\n",
    "    bmi_score = data[\"weight\"][i]/(data[\"height\"][i] ** 2)\n",
    "    bmi.append(bmi_score)\n",
    "\n",
    " # Creating new column bmi in the dataframe\n",
    "data[\"BMI\"] = bmi"
   ]
  },
  {
   "cell_type": "code",
   "execution_count": 33,
   "id": "8dadf550",
   "metadata": {},
   "outputs": [
    {
     "data": {
      "text/html": [
       "<div>\n",
       "<style scoped>\n",
       "    .dataframe tbody tr th:only-of-type {\n",
       "        vertical-align: middle;\n",
       "    }\n",
       "\n",
       "    .dataframe tbody tr th {\n",
       "        vertical-align: top;\n",
       "    }\n",
       "\n",
       "    .dataframe thead th {\n",
       "        text-align: right;\n",
       "    }\n",
       "</style>\n",
       "<table border=\"1\" class=\"dataframe\">\n",
       "  <thead>\n",
       "    <tr style=\"text-align: right;\">\n",
       "      <th></th>\n",
       "      <th>name</th>\n",
       "      <th>height</th>\n",
       "      <th>weight</th>\n",
       "      <th>BMI</th>\n",
       "    </tr>\n",
       "  </thead>\n",
       "  <tbody>\n",
       "    <tr>\n",
       "      <th>0</th>\n",
       "      <td>Hari</td>\n",
       "      <td>1.76</td>\n",
       "      <td>72</td>\n",
       "      <td>23.243802</td>\n",
       "    </tr>\n",
       "    <tr>\n",
       "      <th>1</th>\n",
       "      <td>Messi</td>\n",
       "      <td>1.70</td>\n",
       "      <td>70</td>\n",
       "      <td>24.221453</td>\n",
       "    </tr>\n",
       "    <tr>\n",
       "      <th>2</th>\n",
       "      <td>Dhoni</td>\n",
       "      <td>1.80</td>\n",
       "      <td>75</td>\n",
       "      <td>23.148148</td>\n",
       "    </tr>\n",
       "  </tbody>\n",
       "</table>\n",
       "</div>"
      ],
      "text/plain": [
       "    name  height  weight        BMI\n",
       "0   Hari    1.76      72  23.243802\n",
       "1  Messi    1.70      70  24.221453\n",
       "2  Dhoni    1.80      75  23.148148"
      ]
     },
     "execution_count": 33,
     "metadata": {},
     "output_type": "execute_result"
    }
   ],
   "source": [
    "data"
   ]
  },
  {
   "cell_type": "code",
   "execution_count": 34,
   "id": "195cef6e",
   "metadata": {},
   "outputs": [],
   "source": [
    "# SAVING DATA FRAME TO A FILE"
   ]
  },
  {
   "cell_type": "code",
   "execution_count": 36,
   "id": "cd8c2d36",
   "metadata": {},
   "outputs": [],
   "source": [
    "data.to_csv(\"BMI.csv\")"
   ]
  },
  {
   "cell_type": "code",
   "execution_count": null,
   "id": "9447bdb2",
   "metadata": {},
   "outputs": [],
   "source": []
  }
 ],
 "metadata": {
  "kernelspec": {
   "display_name": "Python 3 (ipykernel)",
   "language": "python",
   "name": "python3"
  },
  "language_info": {
   "codemirror_mode": {
    "name": "ipython",
    "version": 3
   },
   "file_extension": ".py",
   "mimetype": "text/x-python",
   "name": "python",
   "nbconvert_exporter": "python",
   "pygments_lexer": "ipython3",
   "version": "3.11.3"
  }
 },
 "nbformat": 4,
 "nbformat_minor": 5
}
